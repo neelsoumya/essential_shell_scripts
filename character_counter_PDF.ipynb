{
  "nbformat": 4,
  "nbformat_minor": 0,
  "metadata": {
    "colab": {
      "provenance": [],
      "authorship_tag": "ABX9TyN3D6c4z8dHL2Ydt4q3JO+M",
      "include_colab_link": true
    },
    "kernelspec": {
      "name": "python3",
      "display_name": "Python 3"
    },
    "language_info": {
      "name": "python"
    }
  },
  "cells": [
    {
      "cell_type": "markdown",
      "metadata": {
        "id": "view-in-github",
        "colab_type": "text"
      },
      "source": [
        "<a href=\"https://colab.research.google.com/github/neelsoumya/essential_shell_scripts/blob/main/character_counter_PDF.ipynb\" target=\"_parent\"><img src=\"https://colab.research.google.com/assets/colab-badge.svg\" alt=\"Open In Colab\"/></a>"
      ]
    },
    {
      "cell_type": "markdown",
      "metadata": {
        "id": "2f110c7e"
      },
      "source": [
        "## IPython notebook to count characters in PDF\n",
        "\n",
        "This notebook performs the following steps:\n",
        "\n",
        "1.  **Install Libraries**: Installs the `PyPDF2` library to work with PDF files.\n",
        "2.  **Import Libraries**: Imports necessary libraries: `google.colab.drive` for accessing Google Drive, `os` for interacting with the operating system, and `PyPDF2` for PDF processing.\n",
        "3.  **Mount Google Drive and Change Directory**: Mounts Google Drive to access files stored there and changes the current working directory to a specific folder within the drive.\n",
        "4.  **Load and Process PDF**: Loads a specific PDF file, extracts text from all pages, and concatenates it into a single string.\n",
        "5.  **Truncate Text**: Finds the index of the \"Declaration of competing interest\" section and creates a truncated version of the text excluding this section and everything after it.\n",
        "6.  **Character Counts**: Calculates and displays the number of characters (with and without spaces) for both the full extracted text and the truncated text."
      ]
    },
    {
      "cell_type": "code",
      "metadata": {
        "colab": {
          "base_uri": "https://localhost:8080/"
        },
        "id": "b67110fa",
        "outputId": "7d7beff0-662a-4be5-fa53-7f366119e6af"
      },
      "source": [
        "!pip install PyPDF2"
      ],
      "execution_count": 11,
      "outputs": [
        {
          "output_type": "stream",
          "name": "stdout",
          "text": [
            "Requirement already satisfied: PyPDF2 in /usr/local/lib/python3.11/dist-packages (3.0.1)\n"
          ]
        }
      ]
    },
    {
      "cell_type": "code",
      "metadata": {
        "id": "315563a3"
      },
      "source": [
        "from google.colab import drive\n",
        "import os\n",
        "from PyPDF2 import PdfReader"
      ],
      "execution_count": 12,
      "outputs": []
    },
    {
      "cell_type": "code",
      "source": [
        "drive.mount('/content/drive')\n",
        "\n",
        "str_folder_name = '/content/drive/MyDrive/Colab Notebooks/temp/' # Replace 'Your_Folder_Name' with the actual folder name\n",
        "str_file_name = 'levin_comment (5).pdf' # Replace 'Your_File_Name.pdf' with the actual file name\n",
        "\n",
        "os.chdir(str_folder_name)"
      ],
      "metadata": {
        "colab": {
          "base_uri": "https://localhost:8080/"
        },
        "id": "2wxb2oLDdzL0",
        "outputId": "360490c6-eb58-468a-9c01-0aa371f05fed"
      },
      "execution_count": 13,
      "outputs": [
        {
          "output_type": "stream",
          "name": "stdout",
          "text": [
            "Drive already mounted at /content/drive; to attempt to forcibly remount, call drive.mount(\"/content/drive\", force_remount=True).\n"
          ]
        }
      ]
    },
    {
      "cell_type": "code",
      "execution_count": 14,
      "metadata": {
        "colab": {
          "base_uri": "https://localhost:8080/"
        },
        "id": "m-KXp2PSdEyR",
        "outputId": "5ef2b121-e709-4ff8-d53e-f6b70221578e"
      },
      "outputs": [
        {
          "output_type": "stream",
          "name": "stdout",
          "text": [
            "Numbers of characters .... \n",
            "\n"
          ]
        },
        {
          "output_type": "execute_result",
          "data": {
            "text/plain": [
              "(12907, 11122, 11845, 10207)"
            ]
          },
          "metadata": {},
          "execution_count": 14
        }
      ],
      "source": [
        "\n",
        "# Load PDF\n",
        "reader = PdfReader('levin_comment (5).pdf')\n",
        "# Extract text\n",
        "full_text = \"\"\n",
        "for page in reader.pages:\n",
        "    text = page.extract_text()\n",
        "    if text:\n",
        "        full_text += text + \"\\n\"\n",
        "\n",
        "# Find declaration index\n",
        "decl_idx = full_text.find(\"Declaration of competing interest\")\n",
        "# Exclude declaration and after\n",
        "if decl_idx != -1:\n",
        "    truncated_text = full_text[:decl_idx]\n",
        "else:\n",
        "    truncated_text = full_text\n",
        "\n",
        "# Character counts\n",
        "full_with_spaces = len(full_text)\n",
        "full_without_spaces = len(full_text.replace(\" \", \"\"))\n",
        "\n",
        "trunc_with_spaces = len(truncated_text)\n",
        "trunc_without_spaces = len(truncated_text.replace(\" \", \"\"))\n",
        "\n",
        "print(\"Numbers of characters .... \\n\")\n",
        "full_with_spaces, full_without_spaces, trunc_with_spaces, trunc_without_spaces"
      ]
    }
  ]
}